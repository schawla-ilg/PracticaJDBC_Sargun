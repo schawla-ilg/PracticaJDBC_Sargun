{
 "cells": [
  {
   "cell_type": "markdown",
   "id": "12a0e52e",
   "metadata": {},
   "source": [
    "# Nivell 2\n",
    "\n",
    "\n",
    "Recordatori:\n",
    "\n",
    "* Heu de fer aquesta activitat amb _IntelliJ Ultimate_\n",
    "* Directori on heu d'haver clonat aquest repositori: ```~/IdeaProjects```\n",
    "\n",
    "**IMPORTANT**:\n",
    "\n",
    "> No continuïs programant sobre el mateix projecte del nivell 1. **Fes una còpia del projecte del nivell 1, que anomenaràs ```jdbc-demo-nivell2``` i resol el nivell 2 en aquest nou projecte IntelliJ**."
   ]
  },
  {
   "cell_type": "markdown",
   "id": "488094be",
   "metadata": {},
   "source": [
    "## Pregunta 1"
   ]
  },
  {
   "cell_type": "markdown",
   "id": "ee275110",
   "metadata": {},
   "source": [
    "Explica, amb les teves paraules, per què hem creat l'excepcio ``DAOException`` i per què no podem utilitzar altres excepcions com ara SQLException."
   ]
  },
  {
   "cell_type": "markdown",
   "id": "862723d2-d580-4c2c-923c-570f4f2d7003",
   "metadata": {},
   "source": [
    "--->>> La teva resposta aquí <<<---"
   ]
  },
  {
   "cell_type": "markdown",
   "id": "465765b3-949e-4954-b58c-172229896304",
   "metadata": {},
   "source": [
    "Ajuda: als vídeos de JDBC està explicat."
   ]
  },
  {
   "cell_type": "markdown",
   "id": "41c1d1b8",
   "metadata": {},
   "source": [
    "## Exercici 1"
   ]
  },
  {
   "cell_type": "markdown",
   "id": "eee1bf65-2390-4f9e-bbf3-0e646d4d5c3a",
   "metadata": {},
   "source": [
    "Implementa la classe ``DAOException`` afegint-hi els següents constructors, que has d'omplir de la manera que està explicada al segon vídeo de JDBC.\n",
    "\n",
    "```java\n",
    "public DAOException(String message, Throwable cause){}\n",
    "public DAOException(String message){}\n",
    "public DAOException(Throwable cause){}\n",
    "public DAOException(){}\n",
    "```"
   ]
  },
  {
   "cell_type": "markdown",
   "id": "85f39591-ee3c-47a1-bf3c-7f6de76af5c6",
   "metadata": {},
   "source": [
    "Assegura't que en els mètodes que ja has implementat, i en els que implementaràs, cada cop que es captura un ``SQLException``, es llençarà un ``DAOException``, **passant-li com a _causa_ l'excepció SQLException**."
   ]
  },
  {
   "cell_type": "markdown",
   "id": "56627e6b-997e-46f5-a33a-e613456fc0ca",
   "metadata": {},
   "source": [
    "## Exercici 2"
   ]
  },
  {
   "cell_type": "markdown",
   "id": "f5d72bd3-f6a6-483c-870b-72790bb0f5fb",
   "metadata": {},
   "source": [
    "**Refactoritza el tractament i captura d'excepcions usant ``try-with-resources``.**\n",
    "\n",
    "Recorda que al nivell 1 **no podies usar** ``try-with-resources`` i era obligatori utilitzar la clàusula ``finally``.\n",
    "\n",
    "> A partir d'ara en endavant i fins el final de l'activitat (nivells 2 i 3) hauràs d'utilitzar ``try-with-resources``.\n",
    "\n",
    "Al segon vídeo de JDBC hi ha exemples i explicacions de com utilitzar ``try-with-resources``.\n",
    "\n",
    "_Comproveu que el programa funciona un cop feta la refactorització._"
   ]
  },
  {
   "cell_type": "markdown",
   "id": "9ec7ea3b-047e-4c0e-8feb-225c9fcb900a",
   "metadata": {},
   "source": [
    "## Exercici 3"
   ]
  },
  {
   "cell_type": "markdown",
   "id": "f42dbfd1-bfe3-4785-9781-817753b52bdc",
   "metadata": {},
   "source": [
    "En aquest exercici fareu que el vostre programa pugui **obtenir tots els empleats de la base de dades**, i n'imprimirà la informació de cadascun per pantalla.\n",
    "\n",
    "Això ho aconseguireu implementant el mètode ``getEmployees()`` de la interfície ``EmployeeDAO``.\n",
    "\n",
    "Per a imprimir la informació de cada empleat, heu de fer servir el mètode ``toString()`` de la classe ``Employee``."
   ]
  },
  {
   "cell_type": "markdown",
   "id": "1c6675b7-bc97-4e10-8ed1-c85f1a3e56d3",
   "metadata": {},
   "source": [
    "## Exercici 4"
   ]
  },
  {
   "cell_type": "markdown",
   "id": "71709eff-0421-4af8-802f-5c1998a8e6d7",
   "metadata": {},
   "source": [
    "> Abans de començar aquest exercici, heu de fer una còpia del vostre projecte tal com el tingueu un cop acabat l'exercici anterior, i heu d'anomenar aquesta còpia ``jdbc-demo-daofactory``.\n",
    "\n",
    "> Heu de fer aquest exercici en aquest nou projecte anomenat ``jdbc-demo-daofactory``."
   ]
  },
  {
   "cell_type": "markdown",
   "id": "b7d6b4ad-da36-4f00-b858-bc300147a999",
   "metadata": {},
   "source": [
    "**Enunciat exercici 4**:\n",
    "\n",
    "En aquest exercici heu d'afegir la classe ``DAOFactory`` al vostre projecte, i refactoritzar el codi del projecte per tal que faci ús d'aquesta classe. \n",
    "\n",
    "Tal i com s'explica en el segon vídeo de JDBC, aquesta classe s'ha d'ubicar al paquet ``com.pluralcamp.daw.persistence.utilities``"
   ]
  },
  {
   "cell_type": "markdown",
   "id": "4ea0f138-1e89-459d-9946-f7a7b4854935",
   "metadata": {},
   "source": [
    "Un cop feta la refactorització, el mòdul de persistència **no ha d'exportar cap paquet amb implementacions**, és a dir, s'ha de poder eliminar la següent línia del descriptor ``module-info.java`` del mòdul ``com.pluralcamp.daw.persistence``:\n",
    "\n",
    "```\n",
    "exports com.pluralcamp.daw.persistence.daos.impl.jdbc;\n",
    "```"
   ]
  },
  {
   "cell_type": "markdown",
   "id": "55ef8a39-65c9-40d2-88da-0620446c8e17",
   "metadata": {},
   "source": [
    "Has de comprovar que les mateixes funcionalitats implementades fins a l'exercici 3 del nivell 2, segueixen funcionant ara amb l'ús de la fàbrica de DAOs.\n",
    "\n",
    "**Nota**: és recomanable, però no obligatori, aplicar el patró _Singleton_ dins de la fàbrica de DAOs (veure vídeo)."
   ]
  },
  {
   "cell_type": "markdown",
   "id": "2958b392",
   "metadata": {},
   "source": [
    "***\n",
    "# Instruccions de preparació del Nivell 2 per al lliurament\n",
    "\n",
    "## (A fer abans de fer el lliurament o de abans de passar al següent nivell)"
   ]
  },
  {
   "cell_type": "markdown",
   "id": "c9cfd750",
   "metadata": {},
   "source": [
    "**Abans de continuar al següent nivell o si vols fer el lliurament**: Fes un git add i un git commit de la branca _main_ del repositori clonat, amb el següent missatge: **Nom Cognom: nivell 2 acabat**.\n",
    "\n",
    "> No oblidis de fer el git push !!!\n"
   ]
  }
 ],
 "metadata": {
  "kernelspec": {
   "display_name": "Java 11",
   "language": "java",
   "name": "java"
  },
  "language_info": {
   "codemirror_mode": "java",
   "file_extension": ".jshell",
   "mimetype": "text/x-java-source",
   "name": "Java",
   "pygments_lexer": "java",
   "version": "11.0.13+8-Ubuntu-0ubuntu1.20.04"
  }
 },
 "nbformat": 4,
 "nbformat_minor": 5
}
