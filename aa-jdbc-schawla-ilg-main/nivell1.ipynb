{
 "cells": [
  {
   "cell_type": "markdown",
   "id": "c54be6db",
   "metadata": {},
   "source": [
    "# Nivell 1\n",
    "\n",
    "Recordatori:\n",
    "\n",
    "* Heu de fer aquesta activitat amb _IntelliJ Ultimate_\n",
    "* Directori on heu de clonar aquest repositori: ```~/IdeaProjects```\n",
    "\n",
    "**Tingues en compte que**:\n",
    "\n",
    "A mesura que vagis desenvolupant el projecte, necessitaràs modificar els descriptors dels mòduls (fitxers ``module-info.java``) per tal que puguis fer els imports necessaris."
   ]
  },
  {
   "cell_type": "markdown",
   "id": "47d070c0",
   "metadata": {},
   "source": [
    "## Introducció"
   ]
  },
  {
   "cell_type": "markdown",
   "id": "57906e3a",
   "metadata": {},
   "source": [
    "Amb aquest repositori se us dóna fet un esquelet de projecte jdbc, que ha de ser el vostre punt de partida per anar construint les solucions dels exercicis d'aquesta activitat."
   ]
  },
  {
   "cell_type": "markdown",
   "id": "6b1bfd3d",
   "metadata": {},
   "source": [
    "En aquest projecte teniu 3 mòduls:\n",
    "\n",
    "- ```com.pluralcamp.daw.ui``` representa la capa de presentació.\n",
    "- ```com.pluralcamp.daw.entities``` representa la capa de negoci, o model de la nostra aplicació.\n",
    "- ```com.pluralcamp.daw.persistence``` representa la capa de persistència, que és la capa encarregada de treballar contra un sistema gestor de bases de dades.\n",
    "\n",
    "Cada mòdul té el seu descriptor de mòdul ```module-info.java```, que indiquen quines dependències té cada mòduls i quins paquets exporten a l'exterior."
   ]
  },
  {
   "cell_type": "markdown",
   "id": "327fc31c",
   "metadata": {},
   "source": [
    "## El model"
   ]
  },
  {
   "cell_type": "markdown",
   "id": "172a08c6-c2be-4f6d-956b-ab5e449c45b9",
   "metadata": {},
   "source": [
    "El model està compost per 3 classes:\n",
    "\n",
    "- ```Color```\n",
    "- ```Employee```\n",
    "- ```Event```\n",
    "\n",
    "Inspeccioneu cadascuna de les classes per veure quins atributs i mètodes té cadascuna. Observeu també les dependències entre elles; per exemple, la classe ```Event``` té un color de fons (_background color_) i un color de text (_text color_). Per tant, la dependència entre ```Event``` i ```Color``` és _many-to-one_ (un esdeveniment té només un color de fons, però un color pot ser color de fons de diversos esdeveniments)."
   ]
  },
  {
   "cell_type": "markdown",
   "id": "418661b4-9e62-4494-a2b4-03a0fc88c97a",
   "metadata": {},
   "source": [
    "## La base de dades Calendar"
   ]
  },
  {
   "cell_type": "markdown",
   "id": "280c4f9e-9c7b-4776-a2d7-d664a420c2e9",
   "metadata": {},
   "source": [
    "Aneu al menú ```View``` d'IntelliJ: \n",
    "    \n",
    "    View > Tool Windows > Database\n",
    "\n",
    "En la nova finestra de connexions a bases de dades, crearem una nova connexió clicant al símbol ```+```. \n",
    "\n",
    "Seleccionem ```Data Source``` > MySQL\n",
    "\n",
    "Deixem tots els valors per defecte, i posem com a nom d'usuari el vostre nom d'usuari de l'entorn de desenvolupament, i com a contrasenya poseu ```mysql```.\n",
    "\n",
    "_Nota_: és possible que se us demani descarregar els drivers per a mysql que IntelliJ necessita per a connectar-se."
   ]
  },
  {
   "cell_type": "markdown",
   "id": "6d2254bf-4595-498c-9914-685dde81335d",
   "metadata": {},
   "source": [
    "En la nova connexió que heu creat, seleccioneu l'esquema ```Calendar```, i inspeccioneu les taules, que són:\n",
    "\n",
    "- colors\n",
    "- employees\n",
    "- events\n",
    "\n",
    "Inspeccioneu les columnes de cada taula i compareu-les amb els diferents atributs de les classes corresponents del model de l'aplicació."
   ]
  },
  {
   "cell_type": "markdown",
   "id": "a5a227df",
   "metadata": {},
   "source": [
    "## Pregunta 1"
   ]
  },
  {
   "cell_type": "markdown",
   "id": "e93307a5",
   "metadata": {},
   "source": [
    "Explica a continuació quines són les correspondències entre els diferents atributs de les classes del model, i les diferents columnes de les taules de la base de dades ```Calendar```.\n",
    "\n"
   ]
  },
  {
   "cell_type": "markdown",
   "id": "2f625269-6945-46b7-b06b-cd96917e1730",
   "metadata": {},
   "source": [
    "--->>> La teva resposta aquí <<<---\n",
    "\n",
    "Que totes les taules tenen un ID, nom, i els colors en comun\n",
    "Tenen moltes correspondencies com un emplyee(treballador) ha de tenir un nom, id, fecha de alta, fecha de baja, genere que te correspondencies amb events\n"
   ]
  },
  {
   "cell_type": "markdown",
   "id": "062d8653",
   "metadata": {},
   "source": [
    "## Exercici 1"
   ]
  },
  {
   "cell_type": "markdown",
   "id": "7934d1c9-1ae1-464a-9d52-eb59e11a1004",
   "metadata": {},
   "source": [
    "En aquest exercici **has d'incorporar el driver (o connector) JDBC per a MySQL** al teu projecte.\n",
    "\n",
    "Segueix les passes següents:\n",
    "\n",
    "1. Descarrega't el driver de MySQL aquí: [MySQL Drivers](https://dev.mysql.com/downloads/connector/j/). Escull l'opció per a _Platform independent_. \n",
    "\n",
    "    Podeu descarregar la versió zip o tar.gz, com vulgueu.\n",
    "    \n",
    "    No cal fer login, heu de clicar a _No thanks, just start my download._\n",
    "    \n",
    "2. Desempaqueteu i descomprimiu el fitxer descarregat. Per exemple:\n",
    "\n",
    "    ``unzip mysql-connector-java-8.0.28.zip``\n",
    "    \n",
    "    ``tar -xzvf mysql-connector-java-8.0.28.tar.gz``\n",
    "   \n"
   ]
  },
  {
   "cell_type": "markdown",
   "id": "a3d5ff03-31a2-42b4-b9ed-b39f1d2cf6d5",
   "metadata": {},
   "source": [
    "3. Localitzeu el fitxer **.jar** dins de la carpeta descomprimida, i pujeu-lo a la carpeta ```lib``` del mòdul de persistència del projecte.\n",
    "\n",
    "4. Cliqueu amb el botó secundari damunt del mòdul de persistència a IntelliJ. Seleccioneu ``Open Module Settings``.\n",
    "5. Aneu a ``Libraries`` sota de ``Project Settings``. Cliqueu a ``+`` > Java per a afegir el **.jar** del driver JDBC per a MySQL, que està localitzat a la carpeta ``lib`` del mateix mòdul.\n",
    "\n",
    "    Atenció: **l'afegim només al mòdul de persistència !!**\n",
    "    \n",
    "6. Comproveu que el descriptor del mòdul de persistència (fitxer ``module-info.java``) conté el següent requeriment, i si no el té, l'afegiu:\n",
    "\n",
    "``requires mysql.connector.java;``\n",
    "\n",
    "> Aquest requeriment indica que el mòdul de pesistència depèn del driver JDBC de MySQL, que acabem d'afegir al mòdul.\n",
    "\n"
   ]
  },
  {
   "cell_type": "markdown",
   "id": "8b7b0da1-0632-4bc5-b856-731063955ef2",
   "metadata": {},
   "source": [
    "## Pregunta 2"
   ]
  },
  {
   "cell_type": "markdown",
   "id": "45998688-b501-4c17-bf4d-c33d0dd6b63e",
   "metadata": {},
   "source": [
    "Quins altres requeriments té el mòdul de persistència? Per què? **Raona la resposta.**"
   ]
  },
  {
   "cell_type": "markdown",
   "id": "e721b8cb-dc98-4f82-a3a9-0274274aa8dd",
   "metadata": {},
   "source": [
    "--->>> La teva resposta aquí <<<---\n",
    "Te tots aquests:\n",
    "\n",
    "requires java.base; --> Define las API fundamentales de la plataforma Java SE.\n",
    "\n",
    "requires java.sql; --> Proporciona la API para acceder y procesar datos almacenados en una fuente de datos (generalmente una base de datos relacional) utilizando Java\n",
    "\n",
    "requires mysql.connector.java; -->  indica que el mòdul de pesistència depèn del driver JDBC de MySQL, que acabem d'afegir al mòdul.\n",
    "\n",
    "requires com.pluralcamp.daw.entities; --> indica que depende de aquest package\n"
   ]
  },
  {
   "cell_type": "markdown",
   "id": "fa591cef-e6a6-4265-9c52-9cf3bb2bd0a6",
   "metadata": {},
   "source": [
    "## Pregunta 3"
   ]
  },
  {
   "cell_type": "markdown",
   "id": "03386063-0f07-4af7-b286-e6092aee059f",
   "metadata": {},
   "source": [
    "Si observeu el mòdul de persistència, podreu veure com aquesta capa de persistència segueix el patró DAO.\n",
    "\n",
    "Explica, amb paraules teves, en què consisteix aquest patró (DAO)."
   ]
  },
  {
   "cell_type": "markdown",
   "id": "59d3b816-eb45-4928-82dc-5752f788e74c",
   "metadata": {},
   "source": [
    "--->>> La teva resposta aquí <<<---\n",
    "\n",
    "\n",
    "\n",
    "- Es para abstraer la recuperación de datos de un recurso de datos como una base de datos\n",
    "que hay classes con la base i clases para la implementacion de esas bases\n",
    "\n"
   ]
  },
  {
   "cell_type": "markdown",
   "id": "68910ba6-b44b-4a90-b7a0-0cfa067c86bf",
   "metadata": {},
   "source": [
    "Explica per què serveix el paquet ```com.pluralcamp.daw.persistence.daos.contracts``` i en què es diferencia respecte el paquet ```com.pluralcamp.daw.persistence.daos.impl.jdbc```. "
   ]
  },
  {
   "cell_type": "markdown",
   "id": "5a4571b5-29dd-4310-b990-7a80f01eccef",
   "metadata": {},
   "source": [
    "--->>> La teva resposta aquí <<<---\n",
    "\n",
    "- pues que el paquete contracts son interficies que proporciona operaciones CRUD simples para el dominio del usuario, mientras que el paquete impl son clases que implementan la interfaz"
   ]
  },
  {
   "cell_type": "markdown",
   "id": "0a086fc6-58c1-4c42-a4c4-b87037dc9298",
   "metadata": {},
   "source": [
    "Quin paquet crearies i quin nom li posaries si fessim servir PostgreSQL enlloc de MySQL?"
   ]
  },
  {
   "cell_type": "markdown",
   "id": "8677de8c-9eaa-415a-af09-3c4fa9a546d7",
   "metadata": {},
   "source": [
    "--->>> La teva resposta aquí <<<---\n",
    "\n",
    "\n"
   ]
  },
  {
   "cell_type": "markdown",
   "id": "7b619b03-09d0-4dcd-b0f7-302c41fcc349",
   "metadata": {},
   "source": [
    "## Els components de l'API JDBC"
   ]
  },
  {
   "cell_type": "markdown",
   "id": "bb913e01-fd18-4754-a4e8-19f09c332624",
   "metadata": {},
   "source": [
    "Els components o elements més importants que componen l'API de JDBC són:\n",
    "\n",
    "- El ``DriverManager``: aquesta és una classe **implementada** que té per finalitat gestionar els diferents _drivers_ de cada SGBD (Sistema Gestor de Base de Dades). En el nostre cas, s'encarregarà de gestionar el _driver_ mysql-connector-java-8.0.28.jar que hem afegit al mòdul de persistencia en un exercici anterior.\n",
    "\n",
    "Antigament era necessari informar el ``DriverManager`` del driver que volíem utilitzar. D'això se'n diu **registrar el driver**. Per exemple, si volem usar el _driver_ de MySql, cal registrar _mysql-connector-java-8.0.28.jar_ al DriverManager. Actualment aquest registre **es fa de forma automàtica** (ja no cal fer-ho explícitament)."
   ]
  },
  {
   "cell_type": "markdown",
   "id": "69a8c4ea-04fc-4ff7-a2fc-6e950a0fb4ad",
   "metadata": {},
   "source": [
    "- ``Connection``: és una interfície. En iniciar el procés, inicialment cal obrir una connexió a la base de dades. En acabar el procés, caldrà tancar la connexió.\n",
    "\n",
    "- Un **canal d'entrada**: ``Statement``, ``PreparedStatement``, ``CallableStatement`` són interfícies que representen un canal d'entrada per a enviar una consulta SQL (select, insert, update, etc.) a la base de dades.\n",
    "\n",
    "- Un **canal de sortida** (també se l'anomena _canal de lectura_): ``ResultSet``, que és una interfície que representa un conjunt de dades, dades que s'han obtingut de la base de dades en fer la consulta. **Aquestes dades s'hauran de transformar en objectes del nostre model !!**\n",
    "\n",
    "> Tant la connexió, com els canals d'entrada i de sortida, s'han d'obrir **i s'han de tancar**."
   ]
  },
  {
   "cell_type": "markdown",
   "id": "d404628f-299a-4c2b-8f3f-bdaa5d44e51b",
   "metadata": {},
   "source": [
    "El fluxe d'execució és el següent:\n",
    "\n",
    "1. S'obre una connexió a la base de dades.\n",
    "2. S'obre un canal d'entrada.\n",
    "3. S'envia la consulta.\n",
    "4. S'obre un canal de sortida.\n",
    "5. Es recullen i processen els resultats.\n",
    "6. Es tanca el canal de sortida.\n",
    "7. Es tanca el canal d'entrada.\n",
    "8. Es tanca la connexió.\n",
    "\n",
    "> Tot aquest procés s'ha de fer dins d'un ``try - catch - finally``. El tancament de recursos s'ha de fer a la clausula ``finally``.\n",
    "\n",
    "> Si es fan servir ``try-with-resources``, **els recursos es tancaran de forma automàtica**.\n",
    "\n",
    "_Nota_: \n",
    "\n",
    "**en aquest nivell 1 d'aquesta activitat, no podeu usar ``try-with-resources`` (sí en els nivells 2 i 3). Cal que tanqueu els recursos explícitament a la clàusula ``finally``.**"
   ]
  },
  {
   "cell_type": "markdown",
   "id": "8e6e6db7-39a8-4976-8f70-447b3f72d365",
   "metadata": {},
   "source": [
    "### Transaccions"
   ]
  },
  {
   "cell_type": "markdown",
   "id": "8587156b-8fe0-4635-b450-7a4b5b9450af",
   "metadata": {},
   "source": [
    "> Per defecte, amb JDBC, una connexió s'obre en mode **_\"autocommit\"_** (fa un commit de forma automàtica i implícitament).\n",
    "\n",
    "> Si volem, podem activar el mode **_\"transactional\"_** (desactivant l'_autocommit_) de manera que podrem gestionar explícitament les transaccions amb els mètodes ``commit()`` i ``rollback()``.\n",
    "\n",
    "_Nota:_\n",
    "\n",
    "a menys que s'indiqui el contrari, treballarem sempre amb el mode **_\"autocommit\"_**."
   ]
  },
  {
   "cell_type": "markdown",
   "id": "aaa2f824-a6de-4945-9f3f-6ef105c4d432",
   "metadata": {},
   "source": [
    "## Pregunta 4"
   ]
  },
  {
   "cell_type": "markdown",
   "id": "a4d3c5b3-03c6-4886-9e75-dac2ad8e47ed",
   "metadata": {},
   "source": [
    "**Explica**, amb les teves paraules, les diferències i **posa'n exemples**, entre els tres tipus de canals d'entrada mencionats anteriorment: ``Statement``, ``PreparedStatement`` i ``CallableStatement``."
   ]
  },
  {
   "cell_type": "markdown",
   "id": "6b010d1f-c62d-4129-ab16-8e56fe3dd384",
   "metadata": {},
   "source": [
    "--->>> La teva resposta aquí <<<---\n",
    "- Son diferent tipus de interfazes\n",
    "- La interfaz de statement proporciona métodos para ejecutar consultas con la base de datos. La interfaz de statement es una fábrica de ResultSet, es decir, proporciona un método de fábrica para obtener el objeto de ResultSet.\n",
    "- La interfaz CallableStatement se utiliza para llamar a los procedimientos y funciones almacenados. Podemos tener lógica de negocios en la base de datos mediante el uso de procedimientos almacenados y funciones que mejorarán el rendimiento porque están precompilados. \n",
    "-- Exemple para crear un metodo: public CallableStatement prepareCall(\"{ call procedurename(?,?...?)}\");  \n",
    "-- para instanciar : CallableStatement stmt=con.prepareCall(\"{call myprocedure(?,?)}\");  \n",
    "- La interfaz de PreparedStatement amplía la interfaz de Declaración y representa una declaración de SQL precompilada que se puede ejecutar varias veces. Esto acepta consultas SQL parametrizadas y puede pasar 0 o más parámetros a esta consulta."
   ]
  },
  {
   "cell_type": "markdown",
   "id": "fb812419-5e5a-451f-80c1-3ba7155c37b6",
   "metadata": {},
   "source": [
    "## Exercici 2"
   ]
  },
  {
   "cell_type": "markdown",
   "id": "e5cf21cc-58ba-49ea-bb69-86ed80bf6353",
   "metadata": {},
   "source": [
    "Seguint l'exemple i instruccions que trobareu al primer vídeo de JDBC, implementeu el mètode ``getColorById(long id)`` del DAO de la classe ``Color``, per tal d'obtenir, des de la classe _main_ de l'aplicació (classe ``App`` o similar que trobareu al mòdul de presentació), un color de la base de dades a partir del seu ``id``, que es transformarà en un objecte de la classe ``Color`` i que imprimireu per pantalla usant el mètode ``toString()`` de la mateixa classe ``Color``.\n",
    "\n",
    "_Nota_:\n",
    "\n",
    "Heu de tancar els recursos en la clausula ``finally`` (igual que en el vídeo).\n",
    "\n",
    "> Les dades de connexió són: ``\"jdbc:mysql://localhost:3306/calendar\", \"nom_usuari\", \"mysql\"``\n",
    "\n",
    "> L'SQL corresponent que heu d'usar és ``SELECT id, name, red, green, blue FROM colors WHERE id = ?``"
   ]
  },
  {
   "cell_type": "markdown",
   "id": "f3c6eafe-1cb0-4196-8807-00d573f016c9",
   "metadata": {},
   "source": [
    "## Exercici 3"
   ]
  },
  {
   "cell_type": "markdown",
   "id": "3da3ad5d-3991-49aa-bcb9-1961f273df11",
   "metadata": {},
   "source": [
    "Has de repetir l'exercici anterior però aplicat a l'**obtenció d'un l'empleat per id**, implementant el mètode ``getEmployeeById(long id)`` del DAO de la classe ``Empployee``.\n",
    "\n",
    "Has d'imprimir l'empleat obtingut per pantalla usant el mètode ``toString()``."
   ]
  },
  {
   "cell_type": "markdown",
   "id": "1fd56caa-f191-44a2-b65d-ff3cfd65c23e",
   "metadata": {},
   "source": [
    "_Ajuda_:\n",
    "\n",
    "El mètode ``getDate()`` de la interfície ``ResultSet`` retorna un objecte de tipus ``Date``. **Heu de transformar aquest objecte a un de tipus ``LocalDate``** ja que així ho requereix el constructor de la classe ``Employee``. Per a fer aquesta transformació podeu utilitzar el mètode ``toLocalDate()`` de la classe ``Date``.\n",
    "\n",
    "El gènere (MALE, FEMALE) està dissenyat com un _enum_ a la classe ``Employee``. Per passar de _varchar_ (base de dades) a _enum_ (java) heu d'utilitzar el següent codi:\n",
    "\n",
    "```java\n",
    "//Abans de la creació de l'objecte Employee\n",
    "String gender = reader.getString(\"gender\");\n",
    "\n",
    "//Durant la creació de l'objecte Employee\n",
    "Employee.Gender.valueOf(gender) //paràmetre al constructor d'Employee\n",
    "```"
   ]
  },
  {
   "cell_type": "markdown",
   "id": "373baffc",
   "metadata": {},
   "source": [
    "***\n",
    "# Instruccions de preparació del Nivell 1 per al lliurament\n",
    "\n",
    "## (A fer abans de fer el lliurament o de abans de passar al següent nivell)"
   ]
  },
  {
   "cell_type": "markdown",
   "id": "6fef96c0",
   "metadata": {},
   "source": [
    "**Abans de continuar al següent nivell o si vols fer el lliurament**: Fes un git add i un git commit de la branca _main_ del repositori clonat, amb el següent missatge: **Nom Cognom: nivell 1 acabat**.\n",
    "\n",
    "> No oblidis de fer el git push !!!\n"
   ]
  }
 ],
 "metadata": {
  "kernelspec": {
   "display_name": "Java 11",
   "language": "java",
   "name": "java"
  },
  "language_info": {
   "codemirror_mode": "java",
   "file_extension": ".jshell",
   "mimetype": "text/x-java-source",
   "name": "Java",
   "pygments_lexer": "java",
   "version": "11.0.13+8-Ubuntu-0ubuntu1.20.04"
  }
 },
 "nbformat": 4,
 "nbformat_minor": 5
}
