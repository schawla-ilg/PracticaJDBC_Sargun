{
 "cells": [
  {
   "cell_type": "markdown",
   "id": "e963ab82",
   "metadata": {},
   "source": [
    "# Nivell 3\n",
    "\n",
    "\n",
    "Recordatori:\n",
    "\n",
    "* Heu de fer aquesta activitat amb _IntelliJ Ultimate_\n",
    "* Directori on heu d'haver clonat aquest repositori: ```~/IdeaProjects```\n",
    "\n",
    "**IMPORTANT**:\n",
    "\n",
    "> No continuïs programant sobre el mateix projecte del nivell 2. **Fes una còpia del projecte que has acabat amb l'exercici 3 del nivell 2, còpia que anomenaràs ```jdbc-demo-nivell3``` i resol el nivell 3 en aquest nou projecte IntelliJ**."
   ]
  },
  {
   "cell_type": "markdown",
   "id": "ec72f2f8",
   "metadata": {},
   "source": [
    "## Exercici 1: serveis, proveïdors, ServiceLoader"
   ]
  },
  {
   "cell_type": "markdown",
   "id": "c7087646-9109-459a-92b4-6e98ef9ae4ea",
   "metadata": {},
   "source": [
    "En aquest exercici hauràs de modificar el teu projecte de manera que:\n",
    "\n",
    "1. Crea un nou mòdul java anomenat ``com.pluralcamp.daw.persistence.providers.jdbc``\n",
    "2. Mou la implementació en jdbc que tens al paquet ``com.pluralcamp.daw.persistence.daos.impl.jdbc`` del mòdul ``com.pluralcamp.daw.persistence`` a aquest nou mòdul, en particular a un nou paquet anomenat ``com.pluralcamp.daw.persistence.providers.jdbc.api`` (el vídeo pot mostrar que aquest paquet està dins de la carpeta _classes_ però el pots posar, si vols, a una carpeta anomenada _src_).\n",
    "3. Elimina qualsevol paquet d'implementació que tinguis al mòdul ``com.pluralcamp.daw.persistence``, on ara només hi tindràs dos paquets: api i exceptions (**no hi haurà cap implementació**).\n",
    "4. Modifica els descriptors de mòduls corresponents amb sentències ``uses`` (al mòdul de presentació) i ``provides`` (al mòduls d'implementació de persistència). Per exemple:\n",
    "\n",
    "```\n",
    "uses com.pluralcamp.daw.persistence.api.ColorDAO;\n",
    "```\n",
    "\n",
    "```\n",
    "provides com.pluralcamp.daw.persistence.api.ColorDAO with com.pluralcamp.daw.persistence.providers.jdbc.api.ColorDAOJDBCImpl;\n",
    "```\n",
    "\n",
    "5. Des de la classe main de l'aplicació, per a crear els objectes DAO, ara has d'utilitzar la classe ``ServiceLoader``. Al segon vídeo de JDBC hi ha exemples.\n",
    "\n",
    "**Comprova que el projecte funciona fent les mateixes consultes que en el nivell 2.**"
   ]
  },
  {
   "cell_type": "markdown",
   "id": "338df356",
   "metadata": {},
   "source": [
    "***\n",
    "# Instruccions de preparació del Nivell 3 per al lliurament\n",
    "\n",
    "## (A fer abans de fer el lliurament o de abans de passar al següent nivell)"
   ]
  },
  {
   "cell_type": "markdown",
   "id": "fdf538c5",
   "metadata": {},
   "source": [
    "**Abans de continuar al següent nivell o si vols fer el lliurament**: Fes un git add i un git commit de la branca _main_ del repositori clonat, amb el següent missatge: **Nom Cognom: nivell 3 acabat**.\n",
    "\n",
    "> No oblidis de fer el git push !!!\n"
   ]
  }
 ],
 "metadata": {
  "kernelspec": {
   "display_name": "Java 11",
   "language": "java",
   "name": "java"
  },
  "language_info": {
   "codemirror_mode": "java",
   "file_extension": ".jshell",
   "mimetype": "text/x-java-source",
   "name": "Java",
   "pygments_lexer": "java",
   "version": "11.0.13+8-Ubuntu-0ubuntu1.20.04"
  }
 },
 "nbformat": 4,
 "nbformat_minor": 5
}
